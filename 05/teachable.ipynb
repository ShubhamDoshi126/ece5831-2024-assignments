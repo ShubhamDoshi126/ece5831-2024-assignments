{
 "cells": [
  {
   "cell_type": "code",
   "execution_count": 4,
   "metadata": {},
   "outputs": [],
   "source": [
    "from keras.models import load_model  # TensorFlow is required for Keras to work\n",
    "from PIL import Image, ImageOps  # Install pillow instead of PIL\n",
    "import numpy as np"
   ]
  },
  {
   "cell_type": "code",
   "execution_count": 5,
   "metadata": {},
   "outputs": [],
   "source": [
    "# Disable scientific notation for clarity\n",
    "np.set_printoptions(suppress=True)\n",
    "\n",
    "model = load_model(\"C:/Users/shubdosh/Desktop/ece5831/05/model/keras_model.h5\", compile=False)\n",
    "class_names = open(\"C:/Users/shubdosh/Desktop/ece5831/05/model/labels.txt\").readlines()\n",
    "\n",
    "data = np.ndarray(shape=(1, 224, 224, 3), dtype=np.float32)"
   ]
  },
  {
   "cell_type": "code",
   "execution_count": 6,
   "metadata": {},
   "outputs": [
    {
     "name": "stdout",
     "output_type": "stream",
     "text": [
      "1/1 [==============================] - 2s 2s/step\n",
      "Class: rock\n",
      "Confidence Score: 0.99426866\n"
     ]
    },
    {
     "data": {
      "text/plain": [
       "'\\nPrints the confidence score associated with the predicted class.\\n'"
      ]
     },
     "execution_count": 6,
     "metadata": {},
     "output_type": "execute_result"
    }
   ],
   "source": [
    "from PIL import Image, ImageOps\n",
    "import numpy as np\n",
    "\n",
    "# Replace this with the path to your image\n",
    "image = Image.open(\"19rock.jpg\").convert(\"RGB\")\n",
    "\"\"\"\n",
    "Opens the image file located at the specified path and converts it to an RGB image.\n",
    "\n",
    "Returns:\n",
    "    image: A PIL image object in RGB format.\n",
    "\"\"\"\n",
    "\n",
    "# Resize the image to the required dimensions\n",
    "size = (224, 224)\n",
    "image = ImageOps.fit(image, size, Image.Resampling.LANCZOS)\n",
    "\"\"\"\n",
    "Resizes and crops the image to the target size (224x224 pixels) using LANCZOS resampling, \n",
    "which helps maintain image quality.\n",
    "\n",
    "Args:\n",
    "    size (tuple): The desired size of the output image (224, 224).\n",
    "\"\"\"\n",
    "\n",
    "# Convert the image into a numpy array\n",
    "image_array = np.asarray(image)\n",
    "\"\"\"\n",
    "Converts the PIL image object into a numpy array, which can be processed by the model.\n",
    "\n",
    "Returns:\n",
    "    image_array (numpy.ndarray): The image data as a numpy array.\n",
    "\"\"\"\n",
    "\n",
    "# Normalize the image\n",
    "normalized_image_array = (image_array.astype(np.float32) / 127.5) - 1\n",
    "\"\"\"\n",
    "Normalizes the image array to a range of [-1, 1] by dividing the pixel values by 127.5 \n",
    "and subtracting 1. This is typically required for model input.\n",
    "\n",
    "Returns:\n",
    "    normalized_image_array (numpy.ndarray): Normalized image data.\n",
    "\"\"\"\n",
    "\n",
    "# Load the normalized image into the input array for model prediction\n",
    "data[0] = normalized_image_array\n",
    "\"\"\"\n",
    "Loads the normalized image data into the first index of the input array (data[0]) that will be \n",
    "used for model prediction.\n",
    "\n",
    "Args:\n",
    "    data (numpy.ndarray): An array to hold the input data for the model.\n",
    "\"\"\"\n",
    "\n",
    "# Predict the class using the model\n",
    "prediction = model.predict(data)\n",
    "\"\"\"\n",
    "Feeds the input data to the model and gets predictions.\n",
    "\n",
    "Returns:\n",
    "    prediction (numpy.ndarray): The model's prediction probabilities for each class.\n",
    "\"\"\"\n",
    "\n",
    "# Get the index of the highest prediction score\n",
    "index = np.argmax(prediction)\n",
    "\"\"\"\n",
    "Finds the index of the maximum predicted class from the model's output.\n",
    "\n",
    "Returns:\n",
    "    index (int): The index of the class with the highest probability.\n",
    "\"\"\"\n",
    "\n",
    "# Map the index to the actual class name\n",
    "class_name = class_names[index]\n",
    "\"\"\"\n",
    "Maps the predicted index to the corresponding class name from the class_names list.\n",
    "\n",
    "Returns:\n",
    "    class_name (str): The predicted class name.\n",
    "\"\"\"\n",
    "\n",
    "# Extract the confidence score for the predicted class\n",
    "confidence_score = prediction[0][index]\n",
    "\"\"\"\n",
    "Retrieves the confidence score (probability) of the predicted class.\n",
    "\n",
    "Returns:\n",
    "    confidence_score (float): The confidence score for the predicted class.\n",
    "\"\"\"\n",
    "\n",
    "# Print prediction and confidence score\n",
    "print(\"Class:\", class_name[2:], end=\"\")\n",
    "\"\"\"\n",
    "Prints the predicted class name (removing the first two characters, if necessary).\n",
    "\"\"\"\n",
    "\n",
    "print(\"Confidence Score:\", confidence_score)\n",
    "\"\"\"\n",
    "Prints the confidence score associated with the predicted class.\n",
    "\"\"\"\n"
   ]
  },
  {
   "cell_type": "code",
   "execution_count": 7,
   "metadata": {},
   "outputs": [
    {
     "name": "stdout",
     "output_type": "stream",
     "text": [
      "1/1 [==============================] - 0s 54ms/step\n",
      "Class: paper\n",
      "Confidence Score: 0.9998982\n"
     ]
    }
   ],
   "source": [
    "# Again running the class for paper image\n",
    "image = Image.open(\"25paper.jpg\").convert(\"RGB\")\n",
    "size = (224, 224)\n",
    "image = ImageOps.fit(image, size, Image.Resampling.LANCZOS)\n",
    "\n",
    "# turn the image into a numpy array\n",
    "image_array = np.asarray(image)\n",
    "\n",
    "# Normalize the image\n",
    "normalized_image_array = (image_array.astype(np.float32) / 127.5) - 1\n",
    "\n",
    "# Load the image into the array\n",
    "data[0] = normalized_image_array\n",
    "\n",
    "# Predicts the model\n",
    "prediction = model.predict(data)\n",
    "index = np.argmax(prediction)\n",
    "class_name = class_names[index]\n",
    "confidence_score = prediction[0][index]\n",
    "\n",
    "# Print prediction and confidence score\n",
    "print(\"Class:\", class_name[2:], end=\"\")\n",
    "print(\"Confidence Score:\", confidence_score)"
   ]
  }
 ],
 "metadata": {
  "kernelspec": {
   "display_name": "ece-5831-2024",
   "language": "python",
   "name": "python3"
  },
  "language_info": {
   "codemirror_mode": {
    "name": "ipython",
    "version": 3
   },
   "file_extension": ".py",
   "mimetype": "text/x-python",
   "name": "python",
   "nbconvert_exporter": "python",
   "pygments_lexer": "ipython3",
   "version": "3.10.14"
  }
 },
 "nbformat": 4,
 "nbformat_minor": 2
}
