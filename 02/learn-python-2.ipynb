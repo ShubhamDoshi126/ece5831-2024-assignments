{
 "cells": [
  {
   "cell_type": "markdown",
   "metadata": {},
   "source": [
    "In this section, I learned to create Numpy arrays from Python lists for height and weight data, and explored how Numpy arrays work by checking their type.\n"
   ]
  },
  {
   "cell_type": "code",
   "execution_count": 1,
   "metadata": {},
   "outputs": [
    {
     "name": "stdout",
     "output_type": "stream",
     "text": [
      "<class 'numpy.ndarray'>\n"
     ]
    }
   ],
   "source": [
    "height = [1.87,  1.87, 1.82, 1.91, 1.90, 1.85]\n",
    "weight = [81.65, 97.52, 95.25, 92.98, 86.18, 88.45]\n",
    "\n",
    "import numpy as np\n",
    "\n",
    "np_height = np.array(height)\n",
    "np_weight = np.array(weight)\n",
    "\n",
    "print(type(np_height))"
   ]
  },
  {
   "cell_type": "code",
   "execution_count": 2,
   "metadata": {},
   "outputs": [
    {
     "name": "stdout",
     "output_type": "stream",
     "text": [
      "[23.34925219 27.88755755 28.75558507 25.48723993 23.87257618 25.84368152]\n"
     ]
    }
   ],
   "source": [
    "bmi = np_weight / np_height ** 2\n",
    "\n",
    "print(bmi)"
   ]
  },
  {
   "cell_type": "code",
   "execution_count": 3,
   "metadata": {},
   "outputs": [
    {
     "data": {
      "text/plain": [
       "array([23.34925219, 27.88755755, 28.75558507, 25.48723993, 23.87257618,\n",
       "       25.84368152])"
      ]
     },
     "execution_count": 3,
     "metadata": {},
     "output_type": "execute_result"
    }
   ],
   "source": [
    "\n",
    "bmi > 23\n",
    "\n",
    "bmi[bmi > 23]"
   ]
  },
  {
   "cell_type": "code",
   "execution_count": 4,
   "metadata": {},
   "outputs": [
    {
     "name": "stdout",
     "output_type": "stream",
     "text": [
      "[179.63  214.544 209.55  204.556 189.596 194.59 ]\n"
     ]
    }
   ],
   "source": [
    "weight_kg = [81.65, 97.52, 95.25, 92.98, 86.18, 88.45]\n",
    "import numpy as np\n",
    "np_weight_kg = np.array(weight_kg)\n",
    "np_weight_lbs = np_weight_kg * 2.2\n",
    "print(np_weight_lbs)"
   ]
  },
  {
   "cell_type": "markdown",
   "metadata": {},
   "source": [
    "In this section, I worked with Pandas to create a DataFrame from a dictionary containing country data such as capital, area, and population. I then printed the DataFrame for an overview"
   ]
  },
  {
   "cell_type": "code",
   "execution_count": 1,
   "metadata": {},
   "outputs": [
    {
     "name": "stdout",
     "output_type": "stream",
     "text": [
      "        country    capital    area  population\n",
      "0        Brazil   Brasilia   8.516      200.40\n",
      "1        Russia     Moscow  17.100      143.50\n",
      "2         India  New Dehli   3.286     1252.00\n",
      "3         China    Beijing   9.597     1357.00\n",
      "4  South Africa   Pretoria   1.221       52.98\n"
     ]
    }
   ],
   "source": [
    "dict = {\"country\": [\"Brazil\", \"Russia\", \"India\", \"China\", \"South Africa\"],\n",
    "       \"capital\": [\"Brasilia\", \"Moscow\", \"New Dehli\", \"Beijing\", \"Pretoria\"],\n",
    "       \"area\": [8.516, 17.10, 3.286, 9.597, 1.221],\n",
    "       \"population\": [200.4, 143.5, 1252, 1357, 52.98] }\n",
    "\n",
    "import pandas as pd\n",
    "brics = pd.DataFrame(dict)\n",
    "print(brics)"
   ]
  },
  {
   "cell_type": "code",
   "execution_count": 6,
   "metadata": {},
   "outputs": [
    {
     "name": "stdout",
     "output_type": "stream",
     "text": [
      "         country    capital    area  population\n",
      "BR        Brazil   Brasilia   8.516      200.40\n",
      "RU        Russia     Moscow  17.100      143.50\n",
      "IN         India  New Dehli   3.286     1252.00\n",
      "CH         China    Beijing   9.597     1357.00\n",
      "SA  South Africa   Pretoria   1.221       52.98\n"
     ]
    }
   ],
   "source": [
    "\n",
    "brics.index = [\"BR\", \"RU\", \"IN\", \"CH\", \"SA\"]\n",
    "\n",
    "print(brics)"
   ]
  },
  {
   "cell_type": "code",
   "execution_count": 6,
   "metadata": {},
   "outputs": [
    {
     "name": "stdout",
     "output_type": "stream",
     "text": [
      "  Unnamed: 0  cars_per_cap        country  drives_right\n",
      "0         US           809  United States          True\n",
      "1        AUS           731      Australia         False\n",
      "2        JAP           588          Japan         False\n",
      "3         IN            18          India         False\n",
      "4         RU           200         Russia          True\n",
      "5        MOR            70        Morocco          True\n",
      "6         EG            45          Egypt          True\n"
     ]
    }
   ],
   "source": [
    "import pandas as pd\n",
    "\n",
    "cars = pd.read_csv(r\"C:\\Users\\shubdosh\\Desktop\\ece5831\\cars.csv\")\n",
    "\n",
    "print(cars)"
   ]
  },
  {
   "cell_type": "code",
   "execution_count": 5,
   "metadata": {},
   "outputs": [
    {
     "name": "stdout",
     "output_type": "stream",
     "text": [
      "US     809\n",
      "AUS    731\n",
      "JAP    588\n",
      "IN      18\n",
      "RU     200\n",
      "MOR     70\n",
      "EG      45\n",
      "Name: cars_per_cap, dtype: int64\n",
      "     cars_per_cap\n",
      "US            809\n",
      "AUS           731\n",
      "JAP           588\n",
      "IN             18\n",
      "RU            200\n",
      "MOR            70\n",
      "EG             45\n",
      "     cars_per_cap        country\n",
      "US            809  United States\n",
      "AUS           731      Australia\n",
      "JAP           588          Japan\n",
      "IN             18          India\n",
      "RU            200         Russia\n",
      "MOR            70        Morocco\n",
      "EG             45          Egypt\n"
     ]
    }
   ],
   "source": [
    "import pandas as pd\n",
    "cars = pd.read_csv('cars.csv', index_col = 0)\n",
    "\n",
    "print(cars['cars_per_cap'])\n",
    "\n",
    "print(cars[['cars_per_cap']])\n",
    "\n",
    "print(cars[['cars_per_cap', 'country']])"
   ]
  },
  {
   "cell_type": "code",
   "execution_count": 7,
   "metadata": {},
   "outputs": [
    {
     "name": "stdout",
     "output_type": "stream",
     "text": [
      "     cars_per_cap        country  drives_right\n",
      "US            809  United States          True\n",
      "AUS           731      Australia         False\n",
      "JAP           588          Japan         False\n",
      "IN             18          India         False\n",
      "     cars_per_cap  country  drives_right\n",
      "RU            200   Russia          True\n",
      "MOR            70  Morocco          True\n"
     ]
    }
   ],
   "source": [
    "import pandas as pd\n",
    "cars = pd.read_csv('cars.csv', index_col = 0)\n",
    "\n",
    "print(cars[0:4])\n",
    "\n",
    "print(cars[4:6])"
   ]
  },
  {
   "cell_type": "code",
   "execution_count": 8,
   "metadata": {},
   "outputs": [
    {
     "name": "stdout",
     "output_type": "stream",
     "text": [
      "cars_per_cap      588\n",
      "country         Japan\n",
      "drives_right    False\n",
      "Name: JAP, dtype: object\n",
      "     cars_per_cap    country  drives_right\n",
      "AUS           731  Australia         False\n",
      "EG             45      Egypt          True\n"
     ]
    }
   ],
   "source": [
    "import pandas as pd\n",
    "cars = pd.read_csv('cars.csv', index_col = 0)\n",
    "\n",
    "print(cars.iloc[2])\n",
    "\n",
    "print(cars.loc[['AUS', 'EG']])"
   ]
  }
 ],
 "metadata": {
  "kernelspec": {
   "display_name": "ece-5831-2024",
   "language": "python",
   "name": "python3"
  },
  "language_info": {
   "codemirror_mode": {
    "name": "ipython",
    "version": 3
   },
   "file_extension": ".py",
   "mimetype": "text/x-python",
   "name": "python",
   "nbconvert_exporter": "python",
   "pygments_lexer": "ipython3",
   "version": "3.10.14"
  }
 },
 "nbformat": 4,
 "nbformat_minor": 2
}
