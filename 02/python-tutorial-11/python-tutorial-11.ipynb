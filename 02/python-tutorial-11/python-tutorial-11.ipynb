{
 "cells": [
  {
   "cell_type": "markdown",
   "metadata": {},
   "source": [
    "Various ways to how to write our own modules, import modules and related functions"
   ]
  },
  {
   "cell_type": "code",
   "execution_count": 4,
   "metadata": {},
   "outputs": [
    {
     "name": "stdout",
     "output_type": "stream",
     "text": [
      "101.0\n"
     ]
    }
   ],
   "source": [
    "import pricing\n",
    "\n",
    "net_price = get_net_price(\n",
    "    price=100,\n",
    "    tax_rate=0.01\n",
    ")\n",
    "\n",
    "print(net_price)"
   ]
  },
  {
   "cell_type": "code",
   "execution_count": 2,
   "metadata": {},
   "outputs": [
    {
     "name": "stdout",
     "output_type": "stream",
     "text": [
      "101.0\n"
     ]
    }
   ],
   "source": [
    "import pricing as selling_price\n",
    "\n",
    "net_price = selling_price.get_net_price(\n",
    "    price=100,\n",
    "    tax_rate=0.01\n",
    ")\n",
    "\n",
    "print(net_price)"
   ]
  },
  {
   "cell_type": "code",
   "execution_count": 3,
   "metadata": {},
   "outputs": [
    {
     "name": "stdout",
     "output_type": "stream",
     "text": [
      "101.0\n"
     ]
    }
   ],
   "source": [
    "from pricing import get_net_price\n",
    "\n",
    "net_price = get_net_price(price=100, tax_rate=0.01)\n",
    "print(net_price)\n"
   ]
  },
  {
   "cell_type": "code",
   "execution_count": 5,
   "metadata": {},
   "outputs": [
    {
     "name": "stdout",
     "output_type": "stream",
     "text": [
      "104.50000000000001\n"
     ]
    }
   ],
   "source": [
    "from pricing import get_net_price as calculate_net_price\n",
    "\n",
    "net_price = calculate_net_price(\n",
    "    price=100,\n",
    "    tax_rate=0.1,\n",
    "    discount=0.05\n",
    ")\n",
    "print(net_price)"
   ]
  },
  {
   "cell_type": "code",
   "execution_count": 6,
   "metadata": {},
   "outputs": [
    {
     "name": "stdout",
     "output_type": "stream",
     "text": [
      "10.0\n"
     ]
    }
   ],
   "source": [
    "from pricing import *\n",
    "from product import *\n",
    "\n",
    "tax = get_tax(100)\n",
    "print(tax)\n"
   ]
  },
  {
   "cell_type": "code",
   "execution_count": 34,
   "metadata": {},
   "outputs": [
    {
     "name": "stdout",
     "output_type": "stream",
     "text": [
      "c:\\Users\\shubdosh\\AppData\\Local\\anaconda3\\envs\\ece-5831-2024\\python310.zip\n",
      "c:\\Users\\shubdosh\\AppData\\Local\\anaconda3\\envs\\ece-5831-2024\\DLLs\n",
      "c:\\Users\\shubdosh\\AppData\\Local\\anaconda3\\envs\\ece-5831-2024\\lib\n",
      "c:\\Users\\shubdosh\\AppData\\Local\\anaconda3\\envs\\ece-5831-2024\n",
      "\n",
      "c:\\Users\\shubdosh\\AppData\\Local\\anaconda3\\envs\\ece-5831-2024\\lib\\site-packages\n",
      "c:\\Users\\shubdosh\\AppData\\Local\\anaconda3\\envs\\ece-5831-2024\\lib\\site-packages\\win32\n",
      "c:\\Users\\shubdosh\\AppData\\Local\\anaconda3\\envs\\ece-5831-2024\\lib\\site-packages\\win32\\lib\n",
      "c:\\Users\\shubdosh\\AppData\\Local\\anaconda3\\envs\\ece-5831-2024\\lib\\site-packages\\Pythonwin\n"
     ]
    }
   ],
   "source": [
    "import sys\n",
    "\n",
    "for path in sys.path:\n",
    "    print(path)\n"
   ]
  },
  {
   "cell_type": "markdown",
   "metadata": {},
   "source": [
    "Importing Packages\n"
   ]
  },
  {
   "cell_type": "code",
   "execution_count": 9,
   "metadata": {},
   "outputs": [],
   "source": [
    "__name__ = 'billing.py'"
   ]
  },
  {
   "cell_type": "code",
   "execution_count": 1,
   "metadata": {},
   "outputs": [
    {
     "name": "stdout",
     "output_type": "stream",
     "text": [
      "Sales order created successfully!\n",
      "2\n",
      "3\n"
     ]
    }
   ],
   "source": [
    "# main.py\n",
    "import sales.order\n",
    "import sales.delivery\n",
    "import sales.billing\n",
    "\n",
    "\n",
    "sales.order.create_sales_order()\n",
    "sales.delivery.create_delivery()\n",
    "sales.billing.create_billing()"
   ]
  }
 ],
 "metadata": {
  "kernelspec": {
   "display_name": "ece-5831-2024",
   "language": "python",
   "name": "python3"
  },
  "language_info": {
   "codemirror_mode": {
    "name": "ipython",
    "version": 3
   },
   "file_extension": ".py",
   "mimetype": "text/x-python",
   "name": "python",
   "nbconvert_exporter": "python",
   "pygments_lexer": "ipython3",
   "version": "3.10.14"
  }
 },
 "nbformat": 4,
 "nbformat_minor": 2
}
