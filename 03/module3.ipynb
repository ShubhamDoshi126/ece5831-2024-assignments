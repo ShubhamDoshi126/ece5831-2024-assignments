{
 "cells": [
  {
   "cell_type": "markdown",
   "metadata": {},
   "source": [
    "# Logic Gates Implementation and Testing\n",
    "\n",
    "This notebook demonstrates the implementation and testing of various logic gates using NumPy. We'll cover AND, NAND, OR, NOR, and XOR gates."
   ]
  },
  {
   "cell_type": "markdown",
   "metadata": {},
   "source": [
    "## Importing Required Libraries"
   ]
  },
  {
   "cell_type": "code",
   "execution_count": 7,
   "metadata": {},
   "outputs": [],
   "source": [
    "import numpy as np"
   ]
  },
  {
   "cell_type": "markdown",
   "metadata": {},
   "source": [
    "## Logic Gate Class Implementation"
   ]
  },
  {
   "cell_type": "code",
   "execution_count": 8,
   "metadata": {},
   "outputs": [],
   "source": [
    "class LogicGate():\n",
    "    def __init__(self):\n",
    "        pass\n",
    "    \n",
    "    def and_gate(self, x1, x2):\n",
    "        b = -0.7\n",
    "        w = np.array([0.5, 0.5, 1])\n",
    "        x = np.array([x1, x2, b])\n",
    "        y = np.sum(x*w)\n",
    "        return 1 if y > 0 else 0\n",
    "    \n",
    "    def nand_gate(self, x1, x2):\n",
    "        b = 0.7\n",
    "        w = np.array([-0.5, -0.5, 1])\n",
    "        x = np.array([x1, x2, b])\n",
    "        y = np.sum(x*w)\n",
    "        return 1 if y > 0 else 0\n",
    "    \n",
    "    def or_gate(self, x1, x2):\n",
    "        b = -0.9\n",
    "        w = np.array([1, 1, 1])\n",
    "        x = np.array([x1, x2, b])\n",
    "        y = np.sum(x*w)\n",
    "        return 1 if y > 0 else 0\n",
    "    \n",
    "    def nor_gate(self, x1, x2):\n",
    "        b = -0.9\n",
    "        w = np.array([1, 1, 1])\n",
    "        x = np.array([x1, x2, b])\n",
    "        y = np.sum(x*w)\n",
    "        return 0 if y > 0 else 1\n",
    "    \n",
    "    def xor_gate(self, x1, x2):\n",
    "        y1 = self.or_gate(x1, x2)\n",
    "        y2 = self.nand_gate(x1, x2)\n",
    "        return self.and_gate(y1, y2)"
   ]
  },
  {
   "cell_type": "markdown",
   "metadata": {},
   "source": [
    "The logic gates use a simple neural network approach with weights and biases to compute their outputs.\n",
    "\n",
    "- **AND Gate**: Returns 1 only if both inputs are 1.\n",
    "- **NAND Gate**: Returns 0 only if both inputs are 1.\n",
    "- **OR Gate**: Returns 1 if at least one input is 1.\n",
    "- **NOR Gate**: Returns 1 only if both inputs are 0.\n",
    "- **XOR Gate**: Returns 1 if inputs are different, 0 if they are the same.\n"
   ]
  },
  {
   "cell_type": "markdown",
   "metadata": {},
   "source": [
    "## Testing the Logic Gates"
   ]
  },
  {
   "cell_type": "code",
   "execution_count": 9,
   "metadata": {},
   "outputs": [
    {
     "name": "stdout",
     "output_type": "stream",
     "text": [
      "Test for AND gate\n",
      "0=AND(0, 0)\n",
      "0=AND(0, 1)\n",
      "0=AND(1, 0)\n",
      "1=AND(1, 1)\n",
      "\n",
      "Test for NAND gate\n",
      "1=NAND(0, 0)\n",
      "1=NAND(0, 1)\n",
      "1=NAND(1, 0)\n",
      "0=NAND(1, 1)\n",
      "\n",
      "Test for OR gate\n",
      "0=OR(0, 0)\n",
      "1=OR(0, 1)\n",
      "1=OR(1, 0)\n",
      "1=OR(1, 1)\n",
      "\n",
      "Test for NOR gate\n",
      "1=NOR(0, 0)\n",
      "0=NOR(0, 1)\n",
      "0=NOR(1, 0)\n",
      "0=NOR(1, 1)\n",
      "\n",
      "Test for XOR gate\n",
      "0=XOR(0, 0)\n",
      "1=XOR(0, 1)\n",
      "1=XOR(1, 0)\n",
      "0=XOR(1, 1)\n",
      "\n"
     ]
    }
   ],
   "source": [
    "gate = LogicGate()\n",
    "\n",
    "# Test cases for all gates\n",
    "tests = [[0,0], [0,1], [1,0], [1,1]]\n",
    "\n",
    "def test_gate(gate_func, gate_name):\n",
    "    print(f'Test for {gate_name} gate')\n",
    "    for test in tests:\n",
    "        y = gate_func(test[0], test[1])\n",
    "        print(f'{y}={gate_name}({test[0]}, {test[1]})')\n",
    "    print()\n",
    "\n",
    "# Test all gates\n",
    "test_gate(gate.and_gate, \"AND\")\n",
    "test_gate(gate.nand_gate, \"NAND\")\n",
    "test_gate(gate.or_gate, \"OR\")\n",
    "test_gate(gate.nor_gate, \"NOR\")\n",
    "test_gate(gate.xor_gate, \"XOR\")"
   ]
  },
  {
   "cell_type": "code",
   "execution_count": 10,
   "metadata": {},
   "outputs": [
    {
     "name": "stdout",
     "output_type": "stream",
     "text": [
      "Requirement already satisfied: seaborn in c:\\users\\shubdosh\\appdata\\local\\anaconda3\\envs\\ece-5831-2024\\lib\\site-packages (0.13.2)\n",
      "Requirement already satisfied: numpy!=1.24.0,>=1.20 in c:\\users\\shubdosh\\appdata\\local\\anaconda3\\envs\\ece-5831-2024\\lib\\site-packages (from seaborn) (2.1.1)\n",
      "Requirement already satisfied: pandas>=1.2 in c:\\users\\shubdosh\\appdata\\local\\anaconda3\\envs\\ece-5831-2024\\lib\\site-packages (from seaborn) (2.2.3)\n",
      "Requirement already satisfied: matplotlib!=3.6.1,>=3.4 in c:\\users\\shubdosh\\appdata\\local\\anaconda3\\envs\\ece-5831-2024\\lib\\site-packages (from seaborn) (3.9.2)\n",
      "Requirement already satisfied: contourpy>=1.0.1 in c:\\users\\shubdosh\\appdata\\local\\anaconda3\\envs\\ece-5831-2024\\lib\\site-packages (from matplotlib!=3.6.1,>=3.4->seaborn) (1.3.0)\n",
      "Requirement already satisfied: cycler>=0.10 in c:\\users\\shubdosh\\appdata\\local\\anaconda3\\envs\\ece-5831-2024\\lib\\site-packages (from matplotlib!=3.6.1,>=3.4->seaborn) (0.12.1)\n",
      "Requirement already satisfied: fonttools>=4.22.0 in c:\\users\\shubdosh\\appdata\\local\\anaconda3\\envs\\ece-5831-2024\\lib\\site-packages (from matplotlib!=3.6.1,>=3.4->seaborn) (4.53.1)\n",
      "Requirement already satisfied: kiwisolver>=1.3.1 in c:\\users\\shubdosh\\appdata\\local\\anaconda3\\envs\\ece-5831-2024\\lib\\site-packages (from matplotlib!=3.6.1,>=3.4->seaborn) (1.4.7)\n",
      "Requirement already satisfied: packaging>=20.0 in c:\\users\\shubdosh\\appdata\\local\\anaconda3\\envs\\ece-5831-2024\\lib\\site-packages (from matplotlib!=3.6.1,>=3.4->seaborn) (24.1)\n",
      "Requirement already satisfied: pillow>=8 in c:\\users\\shubdosh\\appdata\\local\\anaconda3\\envs\\ece-5831-2024\\lib\\site-packages (from matplotlib!=3.6.1,>=3.4->seaborn) (10.4.0)\n",
      "Requirement already satisfied: pyparsing>=2.3.1 in c:\\users\\shubdosh\\appdata\\local\\anaconda3\\envs\\ece-5831-2024\\lib\\site-packages (from matplotlib!=3.6.1,>=3.4->seaborn) (3.1.4)\n",
      "Requirement already satisfied: python-dateutil>=2.7 in c:\\users\\shubdosh\\appdata\\local\\anaconda3\\envs\\ece-5831-2024\\lib\\site-packages (from matplotlib!=3.6.1,>=3.4->seaborn) (2.9.0)\n",
      "Requirement already satisfied: pytz>=2020.1 in c:\\users\\shubdosh\\appdata\\local\\anaconda3\\envs\\ece-5831-2024\\lib\\site-packages (from pandas>=1.2->seaborn) (2024.2)\n",
      "Requirement already satisfied: tzdata>=2022.7 in c:\\users\\shubdosh\\appdata\\local\\anaconda3\\envs\\ece-5831-2024\\lib\\site-packages (from pandas>=1.2->seaborn) (2024.1)\n",
      "Requirement already satisfied: six>=1.5 in c:\\users\\shubdosh\\appdata\\local\\anaconda3\\envs\\ece-5831-2024\\lib\\site-packages (from python-dateutil>=2.7->matplotlib!=3.6.1,>=3.4->seaborn) (1.16.0)\n",
      "Note: you may need to restart the kernel to use updated packages.\n"
     ]
    }
   ],
   "source": [
    "pip install seaborn"
   ]
  },
  {
   "cell_type": "markdown",
   "metadata": {},
   "source": [
    "## Visualizing Logic Gate Outputs\n",
    "\n",
    "Let's create a visual representation of the logic gate outputs using a heatmap."
   ]
  },
  {
   "cell_type": "code",
   "execution_count": 11,
   "metadata": {},
   "outputs": [
    {
     "data": {
      "image/png": "[encoded data removed]",
      "text/plain": [
       "<Figure size 2000x400 with 5 Axes>"
      ]
     },
     "metadata": {},
     "output_type": "display_data"
    }
   ],
   "source": [
    "import matplotlib.pyplot as plt\n",
    "import seaborn as sns\n",
    "\n",
    "def create_truth_table(gate_func):\n",
    "    return [[gate_func(x, y) for y in [0, 1]] for x in [0, 1]]\n",
    "\n",
    "gates = {\n",
    "    'AND': gate.and_gate,\n",
    "    'NAND': gate.nand_gate,\n",
    "    'OR': gate.or_gate,\n",
    "    'NOR': gate.nor_gate,\n",
    "    'XOR': gate.xor_gate\n",
    "}\n",
    "\n",
    "fig, axes = plt.subplots(1, 5, figsize=(20, 4))\n",
    "fig.suptitle('Logic Gates Truth Tables', fontsize=16)\n",
    "\n",
    "for ax, (gate_name, gate_func) in zip(axes, gates.items()):\n",
    "    truth_table = create_truth_table(gate_func)\n",
    "    sns.heatmap(truth_table, annot=True, cmap='YlGnBu', cbar=False, ax=ax)\n",
    "    ax.set_title(f'{gate_name} Gate')\n",
    "    ax.set_xlabel('Input 2')\n",
    "    ax.set_ylabel('Input 1')\n",
    "    ax.set_xticklabels([0, 1])\n",
    "    ax.set_yticklabels([0, 1], rotation=0)\n",
    "\n",
    "plt.tight_layout()\n",
    "plt.show()"
   ]
  },
  {
   "cell_type": "markdown",
   "metadata": {},
   "source": [
    "This visualization provides a clear representation of how each logic gate behaves for different input combinations. The heatmap shows the output (0 or 1) for each possible input pair, making it easy to compare the behavior of different gates at a glance."
   ]
  }
 ],
 "metadata": {
  "kernelspec": {
   "display_name": "Python 3",
   "language": "python",
   "name": "python3"
  },
  "language_info": {
   "codemirror_mode": {
    "name": "ipython",
    "version": 3
   },
   "file_extension": ".py",
   "mimetype": "text/x-python",
   "name": "python",
   "nbconvert_exporter": "python",
   "pygments_lexer": "ipython3",
   "version": "3.10.14"
  }
 },
 "nbformat": 4,
 "nbformat_minor": 4
}
