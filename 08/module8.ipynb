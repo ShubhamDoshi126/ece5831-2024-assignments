{
 "cells": [
  {
   "cell_type": "code",
   "execution_count": null,
   "metadata": {},
   "outputs": [
    {
     "name": "stdout",
     "output_type": "stream",
     "text": [
      "Epoch 1/10\n",
      "469/469 [==============================] - 24s 47ms/step - loss: 1.4676 - accuracy: 0.5060\n",
      "Epoch 2/10\n",
      "469/469 [==============================] - 22s 47ms/step - loss: 0.3404 - accuracy: 0.9024\n",
      "Epoch 3/10\n",
      "469/469 [==============================] - 22s 46ms/step - loss: 0.2244 - accuracy: 0.9323\n",
      "Epoch 4/10\n",
      "469/469 [==============================] - 22s 47ms/step - loss: 0.1733 - accuracy: 0.9468\n",
      "Epoch 5/10\n",
      "469/469 [==============================] - 22s 47ms/step - loss: 0.1398 - accuracy: 0.9579\n",
      "Epoch 6/10\n",
      "469/469 [==============================] - 22s 48ms/step - loss: 0.1176 - accuracy: 0.9641\n",
      "Epoch 7/10\n",
      "469/469 [==============================] - 22s 46ms/step - loss: 0.1005 - accuracy: 0.9692\n",
      "Epoch 8/10\n",
      "469/469 [==============================] - 22s 46ms/step - loss: 0.0879 - accuracy: 0.9735\n",
      "Epoch 9/10\n",
      "469/469 [==============================] - 22s 47ms/step - loss: 0.0771 - accuracy: 0.9768\n",
      "Epoch 10/10\n",
      "469/469 [==============================] - 21s 46ms/step - loss: 0.0680 - accuracy: 0.9785\n"
     ]
    }
   ],
   "source": [
    "from le_net import LeNet\n",
    "\n",
    "# Create and train the model\n",
    "lenet = LeNet(batch_size=128, epochs=10)\n",
    "lenet.train()\n",
    "\n",
    "# Save the trained model\n",
    "lenet.save(\"doshi_cnn_model\")\n"
   ]
  },
  {
   "cell_type": "code",
   "execution_count": 5,
   "metadata": {},
   "outputs": [],
   "source": [
    "# Load the trained model\n",
    "lenet = LeNet()\n",
    "lenet.load(\"doshi_cnn_model\")\n"
   ]
  },
  {
   "cell_type": "code",
   "execution_count": 1,
   "metadata": {},
   "outputs": [],
   "source": [
    "import subprocess"
   ]
  },
  {
   "cell_type": "code",
   "execution_count": 3,
   "metadata": {},
   "outputs": [
    {
     "name": "stdout",
     "output_type": "stream",
     "text": [
      "\n",
      "1/1 [==============================] - ETA: 0s\n",
      "1/1 [==============================] - 0s 255ms/step\n",
      "Figure(640x480)\n",
      "Success: Image 0_0.png is recognized as 0.\n"
     ]
    }
   ],
   "source": [
    "!python module8.py 0_0.png 0"
   ]
  }
 ],
 "metadata": {
  "kernelspec": {
   "display_name": "ece-5831-2024",
   "language": "python",
   "name": "python3"
  },
  "language_info": {
   "codemirror_mode": {
    "name": "ipython",
    "version": 3
   },
   "file_extension": ".py",
   "mimetype": "text/x-python",
   "name": "python",
   "nbconvert_exporter": "python",
   "pygments_lexer": "ipython3",
   "version": "3.10.14"
  }
 },
 "nbformat": 4,
 "nbformat_minor": 2
}
